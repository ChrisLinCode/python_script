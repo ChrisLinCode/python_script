{
 "cells": [
  {
   "cell_type": "markdown",
   "id": "14c08878",
   "metadata": {
    "scrolled": true
   },
   "source": [
    "# python basics \n",
    "\n",
    "## content\n",
    "\n",
    "- [1. Python 資料存放方式](#PythonValues)\n",
    "- [2. Python 內建函式 (Built-in Functions)](#builtInFunction)\n",
    "- [3. if statement](#ifStatement)\n",
    "- [4. Operators(運算子)](#Operators)\n",
    "- [5. While Loop](#WhileLoop)\n",
    "- [6. For Loop](#forLoop)\n",
    "- [7. Indexing & Slicing for Sequence Data](#indexingANDslicing)\n",
    "- [8. mutable sequence data types_List](#sequence)\n",
    "- [9. immutable sequence data types_tuple](#tuple)\n",
    "- [10. Function(函式)](#function)\n",
    "- [11. Recursion (遞迴)](#recursion)\n",
    "- [12. Arguments (引數)](#argument)\n",
    "- [13. 變數範圍 (Scope)](#scope)"
   ]
  },
  {
   "cell_type": "markdown",
   "id": "d82e287d",
   "metadata": {},
   "source": [
    "<a id='PythonValues'></a>\n",
    "## 1. python 資料存放方式\n",
    "\n",
    "- Python 會將常值存放在header中，header是一個指標 (pointer)。header的內容包含：\n",
    "    - 記憶體位址(reference)\n",
    "    - 資料型別 (data type)\n",
    "    - 資料大小 (data size)\n",
    "    - 資料值 (data value)\n",
    "\n",
    "<img src=\"figures/python_basics_data_in_Python.png\" width=\"650\" height=\"450\">\n",
    "\n",
    "**Fig.python_basics_data_in_Python**\n",
    " \n",
    "    當python變數re-assign一個不同資料型態的資料時，其header的資訊也會跟著改變\n",
    " \n",
    "<img src=\"figures/variables_in_Python.png\" width=\"600\" height=\"400\">\n",
    "\n",
    "**Fig.Variables in Python**"
   ]
  },
  {
   "cell_type": "markdown",
   "id": "d19cc67d",
   "metadata": {},
   "source": [
    "<a id='builtInFunction'></a>\n",
    "## 2. Python 內建函式 (Built-in Functions)\n",
    "\n",
    "### 2.1 input()"
   ]
  },
  {
   "cell_type": "code",
   "execution_count": 1,
   "id": "97d629f1",
   "metadata": {},
   "outputs": [
    {
     "name": "stdout",
     "output_type": "stream",
     "text": [
      "enter a number10\n"
     ]
    },
    {
     "data": {
      "text/plain": [
       "'10'"
      ]
     },
     "execution_count": 1,
     "metadata": {},
     "output_type": "execute_result"
    }
   ],
   "source": [
    "x = input(\"enter a number\")\n",
    "x # a string"
   ]
  },
  {
   "cell_type": "code",
   "execution_count": 2,
   "id": "1f3f5f31",
   "metadata": {
    "scrolled": true
   },
   "outputs": [
    {
     "name": "stdout",
     "output_type": "stream",
     "text": [
      "enter a number10\n"
     ]
    },
    {
     "data": {
      "text/plain": [
       "10"
      ]
     },
     "execution_count": 2,
     "metadata": {},
     "output_type": "execute_result"
    }
   ],
   "source": [
    "x = int(input(\"enter a number\"))\n",
    "x # an integer"
   ]
  },
  {
   "cell_type": "code",
   "execution_count": 7,
   "id": "9654d88e",
   "metadata": {},
   "outputs": [
    {
     "name": "stdout",
     "output_type": "stream",
     "text": [
      "enter a number10\n"
     ]
    },
    {
     "data": {
      "text/plain": [
       "10.0"
      ]
     },
     "execution_count": 7,
     "metadata": {},
     "output_type": "execute_result"
    }
   ],
   "source": [
    "x = float(input(\"enter a number\"))\n",
    "x # a float point number"
   ]
  },
  {
   "cell_type": "markdown",
   "id": "82a4ef9e",
   "metadata": {},
   "source": [
    "### 2.2 print()\n",
    "\n",
    "- print( '字串' , `end`= [結尾符號] )。`end` 預設= `\\n`\n",
    "- print('字串{**index**}...'`.format(variable)`)。變數可根據index擺放\n",
    "- print('字串`%`dataType...'`%(variable)`)。變數需按照順序擺放"
   ]
  },
  {
   "cell_type": "code",
   "execution_count": 26,
   "id": "63a16c1c",
   "metadata": {
    "scrolled": true
   },
   "outputs": [
    {
     "name": "stdout",
     "output_type": "stream",
     "text": [
      "10.00 = 十\n",
      "10.00 = 十\n"
     ]
    }
   ],
   "source": [
    "x=10.0\n",
    "y='十'\n",
    "print('{1:.2f} = {0}'.format(y,x)) #{0、1}索引順序。.2f控制小數個數\n",
    "print('%.2f = %s'%(x,y)) # %(須按照順序擺放變數)"
   ]
  },
  {
   "cell_type": "markdown",
   "id": "b80be965",
   "metadata": {},
   "source": [
    "### 2.3 sorted()\n",
    "\n",
    "+ **`sorted(iterable, key, reverse)`** 將引數列中的序列資料 `iterable` 進行排序，並輸出為串列 (list) 資料。\n",
    "\n",
    "+  **`key`** 參數為排序的依據。預設為`None`\n",
    "\n",
    "+  **`reverse`** 預設為 `False`。如果設定為 `True`，則將序列資料反向排序。\n",
    "\n",
    "    `lambda`函式請參考[lambda運算式](#lambda)"
   ]
  },
  {
   "cell_type": "code",
   "execution_count": 41,
   "id": "e416acf4",
   "metadata": {},
   "outputs": [
    {
     "data": {
      "text/plain": [
       "['grape', 'apple', 'banana', 'cherry', 'pineapple']"
      ]
     },
     "execution_count": 41,
     "metadata": {},
     "output_type": "execute_result"
    }
   ],
   "source": [
    "list0 = ['banana', 'pineapple', 'grape', 'apple', 'cherry']\n",
    "sorted(list0, key=lambda x: len(x))"
   ]
  },
  {
   "cell_type": "markdown",
   "id": "4309642e",
   "metadata": {},
   "source": [
    "<a id='ifStatement'></a>\n",
    "## 3. if statement\n",
    "\n",
    "        if [condition]:\n",
    "            statement1\n",
    "            ...\n",
    "        else:\n",
    "            statement2\n",
    "            ...\n",
    "    \n",
    "<img src=\"figures/if_statement.png\" width=\"500\" height=\"200\">\n",
    "\n",
    "**Fig.if_statement**\n",
    "\n",
    "### 3.1 elif statement\n",
    "\n",
    "- `elif` 是 `else if` 縮寫，同時可以避免過多的 `縮排 (indentation)`。\n",
    "\n",
    "        if [condition]:\n",
    "            statement1\n",
    "            ...\n",
    "        elif [condition]:\n",
    "            statement2\n",
    "            ...\n",
    "\n",
    "<img src=\"figures/if_elif_statement.png\" width=\"600\" height=\"250\">\n",
    "\n",
    "**Fig.if_elif_statement**\n",
    "\n",
    "### 3.2 Nesting if (巢狀if)\n",
    "\n",
    "        if [condition]:\n",
    "            statement1\n",
    "            ...\n",
    "            if [condition]:\n",
    "                statement2\n",
    "                ...\n"
   ]
  },
  {
   "cell_type": "markdown",
   "id": "0f94a5a2",
   "metadata": {},
   "source": [
    "<a id='Operators'></a>\n",
    "## 4. Operators (運算子)\n",
    "\n",
    "### 4.1 比較運算子(Comparison Operators)\n",
    "\n",
    "- `==` : equal to\n",
    "- `!=` : not equal to\n",
    "- `> ` : greater than\n",
    "- `>=` : greater than or equal to\n",
    "- `< ` : less than\n",
    "- `<=` : less than or equal to\n",
    "\n",
    "### 4.2 邏輯運算子(Logical Operators)\n",
    "\n",
    "- `not` : True if value is False\n",
    "- `and` : True if both are true\n",
    "- `or`  : True if either the left or the right are true \n"
   ]
  },
  {
   "cell_type": "markdown",
   "id": "1761d593",
   "metadata": {},
   "source": [
    "<a id='WhileLoop'></a>\n",
    "## 5. While Loop\n",
    "\n",
    "- While 迴圈控制：\n",
    "    - `continue`：進入下一個迭代(iteration)\n",
    "    - `break`：離開While迴圈\n",
    "    - `pass`：直接跳過，不執行指令\n",
    "    \n",
    "<img src=\"figures/while_statement.png\" width=\"650\" height=\"450\">\n",
    "\n",
    "**Fig.While_statement**\n",
    "\n",
    "<a id='GCD_while'></a>\n",
    "### 5.1 最大公因數(Greatest Common Divisor, GCD)\n",
    "\n",
    "- 參考[使用遞迴計算GCD](#GCD_recursion)\n",
    "\n",
    "<img src=\"figures/GCD_example.png\" width=\"700\" height=\"500\">\n",
    "\n",
    "**Fig.GCD_example**"
   ]
  },
  {
   "cell_type": "code",
   "execution_count": 3,
   "id": "3cf302d7",
   "metadata": {},
   "outputs": [
    {
     "name": "stdout",
     "output_type": "stream",
     "text": [
      "enter number1 : 21\n",
      "enter number2 : 144\n",
      "a= 144 b= 21\n",
      "a= 21 b= 18\n",
      "a= 18 b= 3\n",
      "a= 3 b= 0\n",
      "GCD= 3\n"
     ]
    }
   ],
   "source": [
    "a=int(input(\"enter number1 : \"))\n",
    "b=int(input(\"enter number2 : \"))\n",
    "\n",
    "while b != 0:\n",
    "    temp = b\n",
    "    b = a%b #取餘數\n",
    "    a = temp\n",
    "    print(\"a=\",a,\"b=\",b)\n",
    "print(\"GCD=\",a)"
   ]
  },
  {
   "cell_type": "markdown",
   "id": "d7d51744",
   "metadata": {},
   "source": [
    "### 5.2 二元搜尋演算法(Binary Search Algorithm)\n",
    "\n",
    "    利用二元搜尋演算法來 \"趨近\" 平方根值\n",
    "    \n",
    "<img src=\"figures/SquareRoot_by_Binary_Search.png\" width=\"600\" height=\"400\">\n",
    "\n",
    "**Fig.SquareRoot_by_Binary_Search**\n",
    "\n",
    "    以下分成兩種情況：\n",
    "\n",
    "<img src=\"figures/Binary_Search_algorithm.png\" width=\"600\" height=\"400\">\n",
    "\n",
    "**Fig.Binary_Search_algorithm**\n"
   ]
  },
  {
   "cell_type": "code",
   "execution_count": 11,
   "id": "eac8327c",
   "metadata": {
    "scrolled": false
   },
   "outputs": [
    {
     "name": "stdout",
     "output_type": "stream",
     "text": [
      "Enter a positive number: 2\n",
      " Upper of Square Root = 1.414213562373095048801688739066  ( 30 位)\n",
      " Lower of Square Root = 1.414213562373095048801688713217  ( 30 位)\n",
      "--------------------\n",
      " 2.0 的平方根，精確至小數點後第  25  位 :\n",
      " squareRoot( 2.0 ) = 1.4142135623730950488016887\n"
     ]
    }
   ],
   "source": [
    "from math import trunc   #  truncation function: find the *integer part* of float numbers\n",
    "from decimal import *    #  * 為萬用字元 import decimal 所有function\n",
    "getcontext().prec = 31   #  設定 *最大的精度範圍* 至小數點後第 30 位\n",
    "n = 25                   #  設定 *問題的精度範圍* 至小數點後第 25 位\n",
    "\n",
    "# Input a (a >= 0)\n",
    "a = float(input(\"Enter a positive number: \"))\n",
    "\n",
    "# if a < 0, then raise ValueError...\n",
    "if a < 0:\n",
    "    raise ValueError(' ****  a = ', a, ' :  < or = 0: ERROR !! ')\n",
    "\n",
    "# 兩種情況下的最大範圍\n",
    "lower, upper = 0, a\n",
    "if a < 1: upper = 1     \n",
    "\n",
    "# 上限與下限不相等時執行\n",
    "# round(value, int)-->四捨五入到小數點後 n 位\n",
    "# Decimal(str())-->精確的*十進制*浮點數運算。str()降低錯誤發生\n",
    "while round(Decimal(str(upper)),n) != round(Decimal(str(lower)),n):\n",
    "    avg = Decimal(str(upper)) + Decimal(str(lower))\n",
    "    avg = avg / Decimal(str(2.0))\n",
    "    \n",
    "    if avg**2 >= a:  #avg > a^1/2\n",
    "        upper = avg\n",
    "    else:\n",
    "        lower = avg\n",
    "\n",
    "print(' Upper of Square Root =', upper,' (', getcontext().prec-1,'位)')\n",
    "print(' Lower of Square Root =', lower,' (', getcontext().prec-1,'位)')\n",
    "\n",
    "print(20*'-' + '\\n', a, '的平方根，精確至小數點後第 ', n,' 位 :')\n",
    "print(' squareRoot(', a, ') = {:.25f}'.format(avg))"
   ]
  },
  {
   "cell_type": "markdown",
   "id": "a4b19494",
   "metadata": {},
   "source": [
    "### 5.3 蒙地卡羅 (Monte Carlo)\n",
    "\n",
    "> 蒙地卡羅方法是一種以 \"機率\" 統計理論為指導的數值計算方法。　參考：https://reurl.cc/9E76zY\n",
    "\n",
    "- 利用蒙地卡羅方法來 \"趨近\" 圓周率(pi)值。由於是隨機取點，因此準確度不構精細。\n",
    "- 內接圓面積：正方形面積　＝　Pi : 4\n",
    "- Pi = 4 * 內接圓(圓內的點) / 正方形(所有的點)\n",
    "    \n",
    "<img src=\"figures/Pi_by_Monte_Carlo.png\" width=\"600\" height=\"450\">\n",
    "\n",
    "**Fig.Pi_by_Monte_Carlo**"
   ]
  },
  {
   "cell_type": "code",
   "execution_count": 3,
   "id": "881b1d08",
   "metadata": {},
   "outputs": [
    {
     "name": "stdout",
     "output_type": "stream",
     "text": [
      "< Counts per 10^8 computating loops > :  1 2 3 4 5 6 7 8 9 10 \n",
      "\n",
      " Pi = 3.14186\n"
     ]
    }
   ],
   "source": [
    "from random import random, seed    \n",
    "from math import sqrt        #  平方根函數\n",
    "\n",
    "# Set a total amount of 10**8 points inside the square.\n",
    "total = 10**8     \n",
    "\n",
    "# 亂數種子函數 seed\n",
    "seed(100)         #  固定亂數種子 => 固定亂數輸出值\n",
    "\n",
    "i = 0\n",
    "incircle = 0         # Count points inside the inner circle.\n",
    "print('< Counts per 10^8 computating loops > : ', end=' ')\n",
    "\n",
    "while i < total:\n",
    "    i += 1\n",
    "    if i%(10**7) == 0: print(i//10**7, end=' ') #每10^7次print()一次  \n",
    "    x,y = random(), random()       #  回傳亂數值 介於 [0, 1) \n",
    "    d = sqrt(x**2 + y**2)    #  勾股定理公式(點到圓心的距離)\n",
    "    if d <= 1.0:  # d < 圓心半徑\n",
    "        incircle += 1\n",
    "\n",
    "#  圓內點數：正方形內總點數 = Pi : 4\n",
    "pi = 4 * incircle / total  \n",
    "#  輸出 Pi 值至小數點後 5 位\n",
    "print('\\n\\n Pi = {:.5f}'.format(pi)) "
   ]
  },
  {
   "cell_type": "markdown",
   "id": "b1f45b19",
   "metadata": {},
   "source": [
    "<a id='forLoop'></a>\n",
    "## 6. For Loop\n",
    "\n",
    "- 當執行迴圈數確定時，通常採用`for`迴圈進行流程控制\n",
    "- 迴圈控制同 `while` 迴圈。請參考 [5. While Loop](#WhileLoop)\n",
    "\n",
    "        for [iterating_variable] in [sequence_variable]\n",
    "            statement\n",
    "            ...\n",
    "\n",
    "<img src=\"figures/for_statement.png\" width=\"600\" height=\"400\">\n",
    "\n",
    "**Fig.for_statement**\n",
    "\n",
    "### 6.1 成員運算子 (Membership Operators)\n",
    "\n",
    "+ **in** 在for迴圈外的其他用法：\n",
    "+ `in`      :  **True** if a specified value is in a sequence/dataset.\n",
    "+ `not in`  :  **True** if a specified value is not in a sequence/dataset.\n"
   ]
  },
  {
   "cell_type": "code",
   "execution_count": 4,
   "id": "faeb036d",
   "metadata": {},
   "outputs": [
    {
     "data": {
      "text/plain": [
       "[7, 9]"
      ]
     },
     "execution_count": 4,
     "metadata": {},
     "output_type": "execute_result"
    }
   ],
   "source": [
    "a=[]\n",
    "for i in [1,3,5,7,9]:\n",
    "    if i not in [1,2,3,4,5]:\n",
    "        a.append(i)\n",
    "a"
   ]
  },
  {
   "cell_type": "markdown",
   "id": "b84b8783",
   "metadata": {},
   "source": [
    "### 6.2 range()函式\n",
    "\n",
    "- `range()` 的表示法： **range(`start` , `stop` , `step`)** 。 default values => **(`0`, `required value`, `1`)**"
   ]
  },
  {
   "cell_type": "code",
   "execution_count": 2,
   "id": "a756b062",
   "metadata": {
    "scrolled": false
   },
   "outputs": [
    {
     "name": "stdout",
     "output_type": "stream",
     "text": [
      "1 2 3 4 5 "
     ]
    }
   ],
   "source": [
    "for i in range(1,6):\n",
    "    print(i, end=' ')"
   ]
  },
  {
   "cell_type": "code",
   "execution_count": 3,
   "id": "63b3a6d4",
   "metadata": {},
   "outputs": [
    {
     "name": "stdout",
     "output_type": "stream",
     "text": [
      "0 1 2 3 4 5 "
     ]
    }
   ],
   "source": [
    "for i in range(6): #0-5\n",
    "    print(i, end=' ')"
   ]
  },
  {
   "cell_type": "markdown",
   "id": "b816dee2",
   "metadata": {},
   "source": [
    "### 6.3 從字串中輸出字元"
   ]
  },
  {
   "cell_type": "code",
   "execution_count": 2,
   "id": "1d79e5aa",
   "metadata": {
    "scrolled": true
   },
   "outputs": [
    {
     "name": "stdout",
     "output_type": "stream",
     "text": [
      "H e l l o   P y t h o n "
     ]
    }
   ],
   "source": [
    "#方法一\n",
    "text=\"Hello Python\"\n",
    "for i in text :\n",
    "    print(i, end= \" \")"
   ]
  },
  {
   "cell_type": "code",
   "execution_count": 3,
   "id": "adcf0a8b",
   "metadata": {
    "scrolled": true
   },
   "outputs": [
    {
     "name": "stdout",
     "output_type": "stream",
     "text": [
      "H e l l o   P y t h o n "
     ]
    }
   ],
   "source": [
    "#方法二\n",
    "for i in range(len(text)):\n",
    "    print(text[i], end=\" \")"
   ]
  },
  {
   "cell_type": "markdown",
   "id": "c9803dde",
   "metadata": {},
   "source": [
    "### 6.4 從List 中輸出元素"
   ]
  },
  {
   "cell_type": "code",
   "execution_count": 4,
   "id": "da303315",
   "metadata": {},
   "outputs": [
    {
     "name": "stdout",
     "output_type": "stream",
     "text": [
      "資管 財英 環安 風管 應德 營建 "
     ]
    }
   ],
   "source": [
    "list=[\"資管\",\"財英\",\"環安\",\"風管\",\"應德\",\"營建\"]\n",
    "for i in list:\n",
    "    print(i, end=\" \")"
   ]
  },
  {
   "cell_type": "markdown",
   "id": "3b04fcd9",
   "metadata": {},
   "source": [
    "<a id= prime></a>\n",
    "### 6.5 `for...else...` 搜尋<100的質數\n",
    "\n",
    "- [搜尋<100的質數_精簡版](#primeComprehension)"
   ]
  },
  {
   "cell_type": "code",
   "execution_count": 12,
   "id": "57caf015",
   "metadata": {},
   "outputs": [
    {
     "name": "stdout",
     "output_type": "stream",
     "text": [
      "Composite Numbers (< 100) :  [4, 6, 8, 10, 12, 14, 16, 18, 20, 22, 24, 26, 28, 30, 32, 34, 36, 38, 40, 42, 44, 46, 48, 50, 52, 54, 56, 58, 60, 62, 64, 66, 68, 70, 72, 74, 76, 78, 80, 82, 84, 86, 88, 90, 92, 94, 96, 98, 6, 9, 12, 15, 18, 21, 24, 27, 30, 33, 36, 39, 42, 45, 48, 51, 54, 57, 60, 63, 66, 69, 72, 75, 78, 81, 84, 87, 90, 93, 96, 99, 8, 12, 16, 20, 24, 28, 32, 36, 40, 44, 48, 52, 56, 60, 64, 68, 72, 76, 80, 84, 88, 92, 96, 10, 15, 20, 25, 30, 35, 40, 45, 50, 55, 60, 65, 70, 75, 80, 85, 90, 95, 12, 18, 24, 30, 36, 42, 48, 54, 60, 66, 72, 78, 84, 90, 96, 14, 21, 28, 35, 42, 49, 56, 63, 70, 77, 84, 91, 98, 16, 24, 32, 40, 48, 56, 64, 72, 80, 88, 96, 18, 27, 36, 45, 54, 63, 72, 81, 90, 99, 20, 30, 40, 50, 60, 70, 80, 90]\n",
      "\n",
      "Prime Numbers (< 100) :  [2, 3, 5, 7, 11, 13, 17, 19, 23, 29, 31, 37, 41, 43, 47, 53, 59, 61, 67, 71, 73, 79, 83, 89, 97]\n"
     ]
    }
   ],
   "source": [
    "# 方法一\n",
    "prime_numbers = []        # prime_numbers : 質數\n",
    "composite_numbers = []    # composite_numbers : 複合數\n",
    "\n",
    "# Find the composite numbers less than 100 ...\n",
    "for i in range(2, 11): \n",
    "    for j in range(i*2, 100, i):\n",
    "        composite_numbers.append(j)\n",
    "        \n",
    "print('Composite Numbers (< 100) : ', composite_numbers)\n",
    "\n",
    "# Exclude the composite numbers from the numbers less than 100 ...\n",
    "for x in range(2, 100): \n",
    "    if x not in composite_numbers:\n",
    "        prime_numbers.append(x) \n",
    "        \n",
    "print('\\nPrime Numbers (< 100) : ', prime_numbers)"
   ]
  },
  {
   "cell_type": "code",
   "execution_count": 11,
   "id": "2d14e6f7",
   "metadata": {
    "scrolled": true
   },
   "outputs": [
    {
     "name": "stdout",
     "output_type": "stream",
     "text": [
      "Prime Numbers (< 100) :  [2, 3, 5, 7, 11, 13, 17, 19, 23, 29, 31, 37, 41, 43, 47, 53, 59, 61, 67, 71, 73, 79, 83, 89, 97]\n"
     ]
    }
   ],
   "source": [
    "##  方法二\n",
    "prime = []\n",
    "for n in range(2, 100):\n",
    "    for x in range(2, n):\n",
    "        if n % x == 0:  #複合數    \n",
    "            break\n",
    "    else:\n",
    "        # loop fell through without finding a factor \n",
    "        prime.append(n)     # n is a prime number !\n",
    "    \n",
    "print('Prime Numbers (< 100) : ', prime)"
   ]
  },
  {
   "cell_type": "markdown",
   "id": "3bb7c4f7",
   "metadata": {},
   "source": [
    "<a id='bubble'></a>\n",
    "### 6.6 樂透選號 & 氣泡排序演算法 (Bubble Sort Algorithm)\n",
    "\n",
    "- 從號碼 1~49 中，利用電腦系統時間為亂數種子，隨機產生一組 6 個樂透彩號碼，並依照大小排列。\n",
    "- [利用 tuple 執行 \"氣泡排序演算法\"](#bubbleTuple)\n",
    "    "
   ]
  },
  {
   "cell_type": "code",
   "execution_count": 6,
   "id": "4c1729bd",
   "metadata": {
    "scrolled": true
   },
   "outputs": [
    {
     "name": "stdout",
     "output_type": "stream",
     "text": [
      "\n",
      "\n",
      " 本期樂透彩 電腦選號 如下：(1 ~ 49) \n",
      "\n",
      "\n",
      "[1, 23, 28, 36, 38, 40]\n",
      "\n",
      "\n",
      " 是否繼續 電腦選號？(y/n)：n\n"
     ]
    }
   ],
   "source": [
    "from random import random\n",
    "min_num = 1\n",
    "max_num = 49\n",
    "six_num = 6\n",
    "\n",
    "yorn = 'y'\n",
    "while yorn == 'y' or yorn == 'Y':\n",
    "    max_dim = max_num - min_num + 1    # 數字庫\n",
    "    \n",
    "    lotto = []\n",
    "    for i in range(max_dim): #0-48\n",
    "        lotto.append(min_num + i); #1-49\n",
    "\n",
    "    select = []\n",
    "    for i in range(six_num):\n",
    "        # 在1~49間：利用系統時間作為亂數種子，隨機選取號碼\n",
    "        #           random() 回傳亂數值 介於 [0, 1)\n",
    "        random_num = random() * 10000    \n",
    "        lotto_num = int(random_num % max_dim) #餘數範圍[0 ~ maxdim-1]\n",
    "        select.append(lotto[lotto_num])\n",
    "        \n",
    "        for j in range(lotto_num, max_dim-1):\n",
    "            lotto[j] = lotto[j+1]        # 移除已經選中的號碼\n",
    "        max_dim -= 1  # max_dim = max_dim - 1\n",
    "\n",
    "    # 氣泡排序演算法\n",
    "    for j in range(1,len(select)): \n",
    "        for i in range(len(select)-1):\n",
    "            if select[i] > select[i+1]:  #比較字串第一個字元大小\n",
    "                # Swapping\n",
    "                temp = select[i]\n",
    "                select[i] = select[i+1]\n",
    "                select[i+1] = temp\n",
    "            \n",
    "    print(\"\\n\\n 本期樂透彩 電腦選號 如下：(1 ~ 49) \\n\\n\")\n",
    "    print(select)\n",
    "    \n",
    "    yorn = input(\"\\n\\n 是否繼續 電腦選號？(y/n)：\")   "
   ]
  },
  {
   "cell_type": "markdown",
   "id": "13811374",
   "metadata": {},
   "source": [
    "<a id='indexingANDslicing'></a>\n",
    "## 7. Indexing & Slicing for Sequence Data\n",
    "\n",
    "- Python的序列資料(Sequence Data)：\n",
    "    - String\n",
    "    - list\n",
    "    - tuple\n",
    "\n",
    "### 7.1 Indexing"
   ]
  },
  {
   "cell_type": "code",
   "execution_count": 12,
   "id": "d76a0fb6",
   "metadata": {},
   "outputs": [],
   "source": [
    "text = 'hello python!'"
   ]
  },
  {
   "cell_type": "code",
   "execution_count": 8,
   "id": "04384188",
   "metadata": {},
   "outputs": [
    {
     "data": {
      "text/plain": [
       "'h'"
      ]
     },
     "execution_count": 8,
     "metadata": {},
     "output_type": "execute_result"
    }
   ],
   "source": [
    "text[0]"
   ]
  },
  {
   "cell_type": "code",
   "execution_count": 13,
   "id": "b33b5dc7",
   "metadata": {
    "scrolled": false
   },
   "outputs": [
    {
     "data": {
      "text/plain": [
       "'!'"
      ]
     },
     "execution_count": 13,
     "metadata": {},
     "output_type": "execute_result"
    }
   ],
   "source": [
    "text[12]"
   ]
  },
  {
   "cell_type": "code",
   "execution_count": 14,
   "id": "843bffcf",
   "metadata": {},
   "outputs": [
    {
     "data": {
      "text/plain": [
       "'h'"
      ]
     },
     "execution_count": 14,
     "metadata": {},
     "output_type": "execute_result"
    }
   ],
   "source": [
    "text[-0] #same as text[0]"
   ]
  },
  {
   "cell_type": "code",
   "execution_count": 15,
   "id": "5e5a055c",
   "metadata": {},
   "outputs": [
    {
     "data": {
      "text/plain": [
       "'!'"
      ]
     },
     "execution_count": 15,
     "metadata": {},
     "output_type": "execute_result"
    }
   ],
   "source": [
    "text[-1] ##same as text[12]"
   ]
  },
  {
   "cell_type": "code",
   "execution_count": 16,
   "id": "f0c3ed91",
   "metadata": {},
   "outputs": [
    {
     "data": {
      "text/plain": [
       "13"
      ]
     },
     "execution_count": 16,
     "metadata": {},
     "output_type": "execute_result"
    }
   ],
   "source": [
    "len(text) #index 0-12"
   ]
  },
  {
   "cell_type": "code",
   "execution_count": 25,
   "id": "cd3f2457",
   "metadata": {
    "scrolled": false
   },
   "outputs": [
    {
     "ename": "TypeError",
     "evalue": "'str' object does not support item assignment",
     "output_type": "error",
     "traceback": [
      "\u001b[1;31m---------------------------------------------------------------------------\u001b[0m",
      "\u001b[1;31mTypeError\u001b[0m                                 Traceback (most recent call last)",
      "Cell \u001b[1;32mIn[25], line 2\u001b[0m\n\u001b[0;32m      1\u001b[0m \u001b[38;5;66;03m# String 屬於 **不可改變的(immutable)** 序列型別\u001b[39;00m\n\u001b[1;32m----> 2\u001b[0m text[\u001b[38;5;241m0\u001b[39m] \u001b[38;5;241m=\u001b[39m \u001b[38;5;124m'\u001b[39m\u001b[38;5;124mH\u001b[39m\u001b[38;5;124m'\u001b[39m\n",
      "\u001b[1;31mTypeError\u001b[0m: 'str' object does not support item assignment"
     ]
    }
   ],
   "source": [
    "# String 屬於 **不可改變的(immutable)** 序列型別\n",
    "text[0] = 'H'"
   ]
  },
  {
   "cell_type": "markdown",
   "id": "221f762d",
   "metadata": {},
   "source": [
    "### 7.2 Slicing\n",
    "\n",
    "- 利用Slicing擷取子字串(Substring)\n",
    "\n",
    "- **[string variable][ `start` : `stop` : `step` ]** default values => **[`0`: `to the end(不包含)`: `1`]**\n",
    "\n",
    "- 與range()不同，採用`:`號隔開\n",
    "    "
   ]
  },
  {
   "cell_type": "code",
   "execution_count": 18,
   "id": "8cb53997",
   "metadata": {},
   "outputs": [
    {
     "data": {
      "text/plain": [
       "'hello'"
      ]
     },
     "execution_count": 18,
     "metadata": {},
     "output_type": "execute_result"
    }
   ],
   "source": [
    "text[:5] #index numbers [0-4],5-->stop"
   ]
  },
  {
   "cell_type": "code",
   "execution_count": 20,
   "id": "77ca1e14",
   "metadata": {},
   "outputs": [
    {
     "data": {
      "text/plain": [
       "'python!'"
      ]
     },
     "execution_count": 20,
     "metadata": {},
     "output_type": "execute_result"
    }
   ],
   "source": [
    "text[6:] #index numbers [6 to the end]"
   ]
  },
  {
   "cell_type": "code",
   "execution_count": 21,
   "id": "81beea34",
   "metadata": {},
   "outputs": [
    {
     "data": {
      "text/plain": [
       "'hlopto!'"
      ]
     },
     "execution_count": 21,
     "metadata": {},
     "output_type": "execute_result"
    }
   ],
   "source": [
    "text[::2] #index number[0,2,4,6,8,10,12], step=2"
   ]
  },
  {
   "cell_type": "markdown",
   "id": "7b5e47b5",
   "metadata": {},
   "source": [
    "- 利用Slicing進行字串合併"
   ]
  },
  {
   "cell_type": "code",
   "execution_count": 24,
   "id": "71dba638",
   "metadata": {},
   "outputs": [
    {
     "data": {
      "text/plain": [
       "'hello World'"
      ]
     },
     "execution_count": 24,
     "metadata": {},
     "output_type": "execute_result"
    }
   ],
   "source": [
    "text2 = text[:5] + \" World\"\n",
    "text2"
   ]
  },
  {
   "cell_type": "markdown",
   "id": "b142935e",
   "metadata": {},
   "source": [
    "<a id='sequence'></a>\n",
    "## 8. mutable sequence data types_List\n",
    "\n",
    "- 序列資料型別：`list`、`tuple`、`range`\n",
    "- List 屬於 **可改變的(mutable)** 序列資料型別。\n",
    "- List 可存放不同data type的資料。\n",
    "\n",
    "<img src=\"figures/List_Data_Structure.png\" width=\"600\" height=\"450\">\n",
    "\n",
    "**Fig.List_Data_Structure**\n",
    "\n",
    "### 8.1 複製List資料"
   ]
  },
  {
   "cell_type": "code",
   "execution_count": 7,
   "id": "864b3731",
   "metadata": {
    "scrolled": true
   },
   "outputs": [
    {
     "name": "stdout",
     "output_type": "stream",
     "text": [
      "list0=  [0, 1, 2, 3, 4, 5]\n",
      "list1=  [0, 1, 2, 3, 4]\n",
      "list2=  [0, 1, 2, 3, 4]\n",
      "list3=  [0, 1, 2, 3, 4, 5]\n",
      "list4=  [0, 1, 2, 3, 4]\n"
     ]
    }
   ],
   "source": [
    "list0 = [0,1,2,3,4]\n",
    "list1 = list0.copy()  #產生一筆新的list \n",
    "list2 = list0[:]      #same as copy()，but can slicing\n",
    "list3 = list0         #Renaming 指向同一個list\n",
    "\n",
    "list4 = []\n",
    "list4.extend(list0)  #same as copy()\n",
    "\n",
    "list0.append(5)\n",
    "\n",
    "print('list0= ',list0)\n",
    "print('list1= ',list1)\n",
    "print('list2= ',list2)\n",
    "print('list3= ',list3)\n",
    "print('list4= ',list4)"
   ]
  },
  {
   "cell_type": "markdown",
   "id": "57cfe197",
   "metadata": {},
   "source": [
    "### 8.2 append()"
   ]
  },
  {
   "cell_type": "code",
   "execution_count": 22,
   "id": "80c5c48b",
   "metadata": {},
   "outputs": [],
   "source": [
    "list0.append(list1)  #list1為 *一個* 元素"
   ]
  },
  {
   "cell_type": "code",
   "execution_count": 23,
   "id": "1a094a9a",
   "metadata": {},
   "outputs": [
    {
     "name": "stdout",
     "output_type": "stream",
     "text": [
      "list0:  [0, 1, 2, 3, 4, 5, [0, 1, 2, 3, 4]]\n",
      "list0[6]:  [0, 1, 2, 3, 4]\n",
      "list0[6][3]:  3\n"
     ]
    }
   ],
   "source": [
    "print('list0: ',list0)\n",
    "print('list0[6]: ',list0[6]) \n",
    "print('list0[6][3]: ',list0[6][3]) # the value of index 3 form index 6 from list0"
   ]
  },
  {
   "cell_type": "markdown",
   "id": "f00ae8fd",
   "metadata": {},
   "source": [
    "### 8.3 List串接\n",
    "\n",
    "- 透過 `+(concatenation)` 將多筆List資料串接，形成新的序列資料。\n",
    "- 透過 `*(repetition)` 將自身list資料重複複製。\n",
    "- 自身list中含有序列元素時，進行複製後會**序列元素產生side effect**"
   ]
  },
  {
   "cell_type": "code",
   "execution_count": 64,
   "id": "9633aa38",
   "metadata": {
    "scrolled": false
   },
   "outputs": [
    {
     "name": "stdout",
     "output_type": "stream",
     "text": [
      "orginal c :  [0, 1, ['2'], 0, 1, ['2']]\n",
      "orginal d :  [0, 1, ['2'], 0, 1, ['2']]\n"
     ]
    }
   ],
   "source": [
    "a = [0,1,['2']]\n",
    "c = a + a\n",
    "d= 2*a\n",
    "print('orginal c : ',c)\n",
    "print('orginal d : ',d)"
   ]
  },
  {
   "cell_type": "code",
   "execution_count": 65,
   "id": "e5a79501",
   "metadata": {
    "scrolled": false
   },
   "outputs": [
    {
     "name": "stdout",
     "output_type": "stream",
     "text": [
      "edited  c :  [0, 1, ['3'], 0, 1, ['3']]\n",
      "edited  d :  [4, 1, ['3'], 0, 1, ['3']]\n"
     ]
    }
   ],
   "source": [
    "c[2][0] = '3'  #side effect\n",
    "d[0] = 4       #no side effect\n",
    "print('edited  c : ',c)\n",
    "print('edited  d : ',d)"
   ]
  },
  {
   "cell_type": "code",
   "execution_count": 66,
   "id": "a77d6dee",
   "metadata": {},
   "outputs": [
    {
     "name": "stdout",
     "output_type": "stream",
     "text": [
      "list1 (before) =  [[], [], [], []]\n",
      "list2 (before) =  [[], [], [], []]\n",
      "list1 (after) =  [[0], [2], [4], [6]]\n",
      "list2 (after) =  [[0, 2, 4, 6], [0, 2, 4, 6], [0, 2, 4, 6], [0, 2, 4, 6]]\n"
     ]
    }
   ],
   "source": [
    "list1 = []\n",
    "for i in range(4):    #  list.append()\n",
    "    list1.append([])\n",
    "print('list1 (before) = ', list1)\n",
    "\n",
    "list2 = [[]] * 4      #  * repetition。side effect\n",
    "print('list2 (before) = ', list2)\n",
    "\n",
    "def list_elements(list0):\n",
    "    for i in range(len(list0)):\n",
    "        list0[i].append(2*i)\n",
    "    return list0\n",
    "\n",
    "print('list1 (after) = ', list_elements(list1))\n",
    "print('list2 (after) = ', list_elements(list2)) #在不同的元素中append皆會影響其他元素"
   ]
  },
  {
   "cell_type": "markdown",
   "id": "2daccae4",
   "metadata": {},
   "source": [
    "### 8.4 清空List元素 "
   ]
  },
  {
   "cell_type": "code",
   "execution_count": 63,
   "id": "3aba8611",
   "metadata": {},
   "outputs": [
    {
     "data": {
      "text/plain": [
       "[]"
      ]
     },
     "execution_count": 63,
     "metadata": {},
     "output_type": "execute_result"
    }
   ],
   "source": [
    "d = d * (-1)\n",
    "d"
   ]
  },
  {
   "cell_type": "markdown",
   "id": "cf6a9d62",
   "metadata": {},
   "source": [
    "### 8.5 其他 List 方法\n",
    "\n",
    "<img src=\"figures/List_methods.png\" width=\"650\" height=\"1200\">\n",
    "\n",
    "**Fig.List_methods**"
   ]
  },
  {
   "cell_type": "code",
   "execution_count": 14,
   "id": "ddbbdf7f",
   "metadata": {},
   "outputs": [
    {
     "name": "stdout",
     "output_type": "stream",
     "text": [
      "['Fly', 'robin', 'fly', ['a', 'b', 'c'], 'Up', 'up', 'to', 'the', 'sky']\n"
     ]
    }
   ],
   "source": [
    "# insert\n",
    "words = ['Fly', 'robin', 'fly', 'Up', 'up', 'to', 'the', 'sky']\n",
    "words.insert(3,['a','b','c'])  #插入 *一個* 元素\n",
    "print(words)"
   ]
  },
  {
   "cell_type": "code",
   "execution_count": 16,
   "id": "a5c15e11",
   "metadata": {
    "scrolled": true
   },
   "outputs": [
    {
     "name": "stdout",
     "output_type": "stream",
     "text": [
      "['Fly', 'robin', 'fly', 'Up', 'up', 'to', 'the', 'sky']\n",
      "['Fly', 'robin', 'fly', 'up', 'to', 'the', 'sky']\n",
      "['robin', 'fly', 'up', 'to', 'the', 'sky']\n",
      "['robin', 'fly', 'up', 'to', 'the']\n"
     ]
    }
   ],
   "source": [
    "words = ['Fly', 'robin', 'fly', 'Up', 'up', 'to', 'the', 'sky']\n",
    "print(words)\n",
    "\n",
    "words.remove('Up') #指定清單項(內容)\n",
    "print(words)\n",
    "\n",
    "words.pop(0) #指定index。\n",
    "print(words)\n",
    "\n",
    "words.pop() #default=最後一項\n",
    "print(words)"
   ]
  },
  {
   "cell_type": "markdown",
   "id": "8418d480",
   "metadata": {},
   "source": [
    "### 8.6 List Comprehension\n",
    "\n",
    "- Python 採用 \"List Comprehension (串列精簡)\" 的概念產生 list(串列) 資料，其運算效能將會提升 (特別是在大量資料運算的情況下)。\n",
    "- 數學方式表示一個集合(set):\n",
    "\n",
    "> A = {2n+1| n = 1,2,3,4,5,6,7,8,9} $\\quad => \\quad \\quad  $  A = { 3, 5, 7, 9, 11, 13, 15, 17, 19}\n",
    ">\n",
    "> B = {$x^2$| x<12 and x in A}  $\\quad \\quad \\quad  =>  \\quad \\quad $  B = { 9, 25, 49, 81, 121}\n",
    "\n",
    "- Python 表示集合:\n",
    "\n",
    "> A = [2*n+1 for n in range(1,10)]\n",
    ">\n",
    "> B = [x**2 for x in A if x < 12]"
   ]
  },
  {
   "cell_type": "code",
   "execution_count": 1,
   "id": "55b6473b",
   "metadata": {},
   "outputs": [
    {
     "name": "stdout",
     "output_type": "stream",
     "text": [
      "A =  [3, 5, 7, 9, 11, 13, 15, 17, 19]\n",
      "B =  [9, 25, 49, 81, 121]\n"
     ]
    }
   ],
   "source": [
    "# List Comprehension\n",
    "def list_Compreh():\n",
    "    A = [2*n+1 for n in range(1,10)]\n",
    "    B = [x**2 for x in A if x < 12]\n",
    "    print('A = ', A)    # [3, 5, 7, 9, 11, 13, 15, 17, 19]\n",
    "    print('B = ', B)    # [9, 25, 49, 81, 121]\n",
    "    \n",
    "list_Compreh()"
   ]
  },
  {
   "cell_type": "code",
   "execution_count": 3,
   "id": "20a482d5",
   "metadata": {},
   "outputs": [
    {
     "data": {
      "text/plain": [
       "[3, 5, 7, 9, 11, 13, 15, 17, 19]"
      ]
     },
     "execution_count": 3,
     "metadata": {},
     "output_type": "execute_result"
    }
   ],
   "source": [
    "#List A 原始寫法\n",
    "A=[]\n",
    "for n in range(1,10):\n",
    "    A.append(2*n+1)\n",
    "A"
   ]
  },
  {
   "cell_type": "code",
   "execution_count": 6,
   "id": "bab44e62",
   "metadata": {},
   "outputs": [
    {
     "data": {
      "text/plain": [
       "[9, 25, 49, 81, 121]"
      ]
     },
     "execution_count": 6,
     "metadata": {},
     "output_type": "execute_result"
    }
   ],
   "source": [
    "#List B 原始寫法\n",
    "B = []\n",
    "for x in A :\n",
    "    if x < 12:\n",
    "        B.append(x**2) \n",
    "B"
   ]
  },
  {
   "cell_type": "markdown",
   "id": "1e03dd1e",
   "metadata": {},
   "source": [
    "<a id= primeComprehension></a>\n",
    "### 8.7 搜尋<100的質數。 使用 List Comprehension 精簡\n",
    "\n",
    "- [搜尋<100的質數](#prime)"
   ]
  },
  {
   "cell_type": "code",
   "execution_count": 13,
   "id": "2882e48a",
   "metadata": {},
   "outputs": [
    {
     "name": "stdout",
     "output_type": "stream",
     "text": [
      "Prime Numbers (< 100) :  [2, 3, 5, 7, 11, 13, 17, 19, 23, 29, 31, 37, 41, 43, 47, 53, 59, 61, 67, 71, 73, 79, 83, 89, 97]\n"
     ]
    }
   ],
   "source": [
    "#方法一之精簡版\n",
    "prime_numbers = [x for x in range(2, 100) \n",
    "                   if x not in [j for i in range(2, 11)   \n",
    "                                  for j in range(i*2, 100, i)]]\n",
    "\n",
    "print('Prime Numbers (< 100) : ', prime_numbers)"
   ]
  },
  {
   "cell_type": "markdown",
   "id": "7721e481",
   "metadata": {},
   "source": [
    "<a id='tuple'></a>\n",
    "## 9. immutable sequence data types_tuple\n",
    "\n",
    "- tuple(元組)是 不可改變的序列型別 (Immutable Sequence Types)。\n",
    "- **tuple 可以存放list**，但是不可修改 list 的元素\n",
    "- tuple 可存放不同data type的資料。"
   ]
  },
  {
   "cell_type": "code",
   "execution_count": 16,
   "id": "e2ec335a",
   "metadata": {
    "scrolled": true
   },
   "outputs": [
    {
     "data": {
      "text/plain": [
       "()"
      ]
     },
     "execution_count": 16,
     "metadata": {},
     "output_type": "execute_result"
    }
   ],
   "source": [
    "t = ()    # Creating an empty tuple…\n",
    "t"
   ]
  },
  {
   "cell_type": "code",
   "execution_count": 18,
   "id": "6caf29b8",
   "metadata": {},
   "outputs": [
    {
     "data": {
      "text/plain": [
       "('Python',)"
      ]
     },
     "execution_count": 18,
     "metadata": {},
     "output_type": "execute_result"
    }
   ],
   "source": [
    "# 利用緊隨的 '逗號'，產生單一物件元組(a singleton tuple)： a, 或 (a,)\n",
    "\n",
    "t = 'Python',     # Creating a singleton…\n",
    "t\n",
    "\n",
    "# t = 'Python' => not a tuple"
   ]
  },
  {
   "cell_type": "code",
   "execution_count": 19,
   "id": "ca62b3ce",
   "metadata": {},
   "outputs": [
    {
     "data": {
      "text/plain": [
       "(['a', 'b', 'c', 1, 2], [11, 22], ('Python', 3.6))"
      ]
     },
     "execution_count": 19,
     "metadata": {},
     "output_type": "execute_result"
    }
   ],
   "source": [
    "t2 = ['a','b','c', 1, 2], [11, 22], ('Python', 3.6) #省略小括號()\n",
    "t2        "
   ]
  },
  {
   "cell_type": "code",
   "execution_count": 20,
   "id": "09ee715d",
   "metadata": {
    "scrolled": false
   },
   "outputs": [
    {
     "ename": "TypeError",
     "evalue": "'tuple' object does not support item assignment",
     "output_type": "error",
     "traceback": [
      "\u001b[1;31m---------------------------------------------------------------------------\u001b[0m",
      "\u001b[1;31mTypeError\u001b[0m                                 Traceback (most recent call last)",
      "Cell \u001b[1;32mIn[20], line 1\u001b[0m\n\u001b[1;32m----> 1\u001b[0m t2[\u001b[38;5;241m0\u001b[39m]\u001b[38;5;241m=\u001b[39m[\u001b[38;5;124m'\u001b[39m\u001b[38;5;124md\u001b[39m\u001b[38;5;124m'\u001b[39m,\u001b[38;5;124m'\u001b[39m\u001b[38;5;124me\u001b[39m\u001b[38;5;124m'\u001b[39m]\n",
      "\u001b[1;31mTypeError\u001b[0m: 'tuple' object does not support item assignment"
     ]
    }
   ],
   "source": [
    "# tuple 不可改變\n",
    "t2[0]=['d','e']"
   ]
  },
  {
   "cell_type": "code",
   "execution_count": 30,
   "id": "a5ce24d8",
   "metadata": {
    "scrolled": true
   },
   "outputs": [
    {
     "name": "stdout",
     "output_type": "stream",
     "text": [
      "t1:  (('Python', 123, 3.1416),)\n",
      "t2:  ('Python', 123, 3.1416)\n"
     ]
    }
   ],
   "source": [
    "t = (('ABC', 'NBC', 'CBS'), ('Python', 123, 3.1416), (2.71828, 1.732))\n",
    "\n",
    "t1 = tuple(t[1:2])\n",
    "print('t1: ', t1) # singleton tuple\n",
    "\n",
    "t2 = tuple(t[1])\n",
    "print('t2: ',t2) #one tuple for 3 elements"
   ]
  },
  {
   "cell_type": "markdown",
   "id": "664d54b0",
   "metadata": {},
   "source": [
    "### 9.1 tuple unpacking 運算"
   ]
  },
  {
   "cell_type": "code",
   "execution_count": 23,
   "id": "b3717c1b",
   "metadata": {},
   "outputs": [
    {
     "name": "stdout",
     "output_type": "stream",
     "text": [
      "(['a', 'b', 'c', 1, 2], [11, 22], ('Python', 3.6)) \n",
      "\n",
      "str:  ['a', 'b', 'c', 1, 2]\n",
      "int:  [11, 22]\n",
      "py:  ('Python', 3.6)\n"
     ]
    }
   ],
   "source": [
    "print(t2,'\\n')\n",
    "str, int, py = t2\n",
    "\n",
    "\n",
    "print('str: ', str)\n",
    "print('int: ', int)\n",
    "print('py: ', py)"
   ]
  },
  {
   "cell_type": "markdown",
   "id": "3ded7587",
   "metadata": {},
   "source": [
    "### 9.2 `enumerate()`：列舉函數\n",
    "\n",
    "- 利用列舉函數 enumerate (iterable, start=0) 回傳 **tuple** 資料 (index , element)。"
   ]
  },
  {
   "cell_type": "code",
   "execution_count": 26,
   "id": "a844d96f",
   "metadata": {},
   "outputs": [
    {
     "name": "stdout",
     "output_type": "stream",
     "text": [
      "1 Python\n",
      "2 R\n",
      "3 Scala\n"
     ]
    }
   ],
   "source": [
    "languages = ['Python', 'R', 'Scala'] #list\n",
    "\n",
    "#for (tuple) in enumerate()\n",
    "for index, element in enumerate(languages, start = 1):\n",
    "    print(index, element)"
   ]
  },
  {
   "cell_type": "markdown",
   "id": "a099fc48",
   "metadata": {},
   "source": [
    "### 9.3 `zip()` 函數運算\n",
    "\n",
    "+ 利用 `zip()` 函數回傳 **tuple** 資料的迭代器 (iterator)。將兩筆序列資料應用於迴圈運算。 "
   ]
  },
  {
   "cell_type": "code",
   "execution_count": 27,
   "id": "4e19c98a",
   "metadata": {},
   "outputs": [
    {
     "name": "stdout",
     "output_type": "stream",
     "text": [
      "Who is the Pitcher? It is Chien-Ming Wang.\n",
      "Who is the Shortstop? It is Derek Jeter.\n",
      "Who is the Third Baseman? It is A. Rod.\n"
     ]
    }
   ],
   "source": [
    "positions = ['Pitcher', 'Shortstop', 'Third Baseman']\n",
    "players = ['Chien-Ming Wang', 'Derek Jeter', 'A. Rod']\n",
    "\n",
    "for pos, player in zip(positions, players):\n",
    "    print('Who is the {0}? It is {1}.'.format(pos, player))"
   ]
  },
  {
   "cell_type": "markdown",
   "id": "99dc3c45",
   "metadata": {},
   "source": [
    "<a id= fiboTuple></a>\n",
    "### 9.4 利用 tuple 求費式數列(Fibonacci number)\n",
    "\n",
    "- [利用遞迴求費氏數列](#fibo)"
   ]
  },
  {
   "cell_type": "code",
   "execution_count": 37,
   "id": "5f9f4f3b",
   "metadata": {},
   "outputs": [
    {
     "name": "stdout",
     "output_type": "stream",
     "text": [
      "1 1 2 3 5 8 13 21 34 55 89 "
     ]
    }
   ],
   "source": [
    "# Fibonacci series: F(i) = F(i-1) + F(i+1)\n",
    "a, b = 0, 1 #unpacking\n",
    "while b < 100:\n",
    "    print(b, end=' ')\n",
    "    a, b = b, a+b     # tuple types for SWAP: (a, b) = (a, a+b) using tuple unpacking"
   ]
  },
  {
   "cell_type": "markdown",
   "id": "2428b690",
   "metadata": {},
   "source": [
    "<a id= bubbleTuple></a>\n",
    "### 9.4 利用 tuple 執行 \"氣泡排序演算法\"\n",
    "\n",
    "- [利用 For loop 執行 \"氣泡排序演算法\"](#bubble)"
   ]
  },
  {
   "cell_type": "code",
   "execution_count": 38,
   "id": "6994646e",
   "metadata": {},
   "outputs": [
    {
     "name": "stdout",
     "output_type": "stream",
     "text": [
      "尚未排序的資料：\n",
      " ['banana', 'apple', 'pineapple', 'watermelon', 'cherry']\n",
      "由小排到大的資料：\n",
      " ['apple', 'banana', 'cherry', 'pineapple', 'watermelon']\n"
     ]
    }
   ],
   "source": [
    "fruits = ['banana', 'apple', 'pineapple', 'watermelon', 'cherry']\n",
    "\n",
    "print('尚未排序的資料：\\n', fruits)\n",
    "for j in fruits: # 氣泡排序演算法：由小排到大\n",
    "    for i in range(len(fruits)-1):\n",
    "        if fruits[i] > fruits[i+1]:\n",
    "            # Swapping by tuple unpacking...\n",
    "            fruits[i] , fruits[i+1] = fruits[i+1], fruits[i]\n",
    "\n",
    "print('由小排到大的資料：\\n', fruits)"
   ]
  },
  {
   "cell_type": "markdown",
   "id": "fba63c29",
   "metadata": {},
   "source": [
    "<a id='function'></a>\n",
    "## 10. Function(函式)\n",
    "\n",
    "- 關鍵字 `def` 用於定義函式，其後為函式名稱與引數列，最後需要加冒號(:)。函式的程式內容開始於下一行。\n",
    "- 函式的第一行敘述可以是 \"說明字串(documentation strings or **docstrings**)\"，用於說明函式內容。 使用`.__doc__`來呼叫說明字串。\n",
    "- 函式可以傳遞不同 data type 的引數，並且回傳不同 data type 的結果。\n",
    "\n",
    "       def [function name](arg1, arg2, ...):\n",
    "             ''' docString '''\n",
    "             Statement\n",
    "             ... \n",
    "\n",
    "- Python 支援 **First-Class Functions (一級函式)**\n",
    "   - 可以儲存於 資料結構 (data structures) 中\n",
    "   - 可當作引數傳遞\n",
    "   - 可做為回傳值\n",
    "   - 可賦值於變數"
   ]
  },
  {
   "cell_type": "code",
   "execution_count": 8,
   "id": "339bcda8",
   "metadata": {
    "scrolled": true
   },
   "outputs": [
    {
     "name": "stdout",
     "output_type": "stream",
     "text": [
      "28\n",
      "28.0\n",
      "7777\n"
     ]
    }
   ],
   "source": [
    "# 傳遞不同 data type的引數\n",
    "def quadruple(x):   \n",
    "    return x * 4\n",
    "\n",
    "print(quadruple(7))\n",
    "print(quadruple(7.0))\n",
    "print(quadruple('7'))"
   ]
  },
  {
   "cell_type": "markdown",
   "id": "c8381781",
   "metadata": {},
   "source": [
    "### 10.1 回傳值 (Return Values)\n",
    "\n",
    "+ 一般而言，Python 的函式都會有回傳值 (return values)。\n",
    "+ 即便是沒有 `return` 敘述，也會回傳 `None`。"
   ]
  },
  {
   "cell_type": "code",
   "execution_count": 12,
   "id": "376a6352",
   "metadata": {},
   "outputs": [
    {
     "name": "stdout",
     "output_type": "stream",
     "text": [
      "None\n"
     ]
    }
   ],
   "source": [
    "def noReturn():\n",
    "    a = 1+1\n",
    "\n",
    "print(noReturn())\n",
    "             "
   ]
  },
  {
   "cell_type": "markdown",
   "id": "37924701",
   "metadata": {},
   "source": [
    "<a id='lambda'></a>\n",
    "### 10.2 `lambda` 運算式\n",
    "\n",
    "- 利用 **`lambda`** 關鍵字來產生 **匿名函式** (anonymous functions)。\n",
    "- Lambda 函式只能使用單一運算式 (a single expression)。\n",
    "\n",
    "        lambda arg1, arg2, ... : [a single expression]"
   ]
  },
  {
   "cell_type": "markdown",
   "id": "f9ecfa0a",
   "metadata": {},
   "source": [
    "<a id='recursion'></a>\n",
    "## 11. Recursion (遞迴)\n",
    "\n",
    "- 當電腦 CPU 的運算效能較差，而記憶體相對地有較足夠的空間來彌補、提升運算效能。\n",
    "- **遞迴 (recursion)**\" 演算法透過`自己呼叫自己`(self-calling) 的方式來解決問題。同時，未完成的運算部分將會暫存於 *系統堆疊 (stack)* 中。\n",
    "- **必須設定終止條件**，否則將耗盡記憶體空間\n",
    "- 如果函式中的運算能夠用 `while` 方式完成的話，通常也可以用 \"**遞迴 (recursion)**\"方式取代。\n",
    "\n",
    "<a id='GCD_recursion'></a>\n",
    "### 11.1 最大公因數(Greatest Common Divisor, GCD)\n",
    "\n",
    "- 參考[使用while計算GCD](#GCD_while)\n"
   ]
  },
  {
   "cell_type": "code",
   "execution_count": 14,
   "id": "70a0f79e",
   "metadata": {
    "scrolled": true
   },
   "outputs": [
    {
     "name": "stdout",
     "output_type": "stream",
     "text": [
      "GCD =  9\n"
     ]
    }
   ],
   "source": [
    "def gcd(x, y):\n",
    "    if y == 0: #終止條件\n",
    "        return x\n",
    "    else: \n",
    "        return gcd(y, x%y)   #  Tail Recursion without stack\n",
    "     \n",
    "print('GCD = ',gcd(99, 225)) "
   ]
  },
  {
   "cell_type": "code",
   "execution_count": 35,
   "id": "a99a1225",
   "metadata": {},
   "outputs": [
    {
     "name": "stdout",
     "output_type": "stream",
     "text": [
      "GCD =  9\n"
     ]
    }
   ],
   "source": [
    "#簡化遞迴函式\n",
    "def g(x, y):\n",
    "    return x if y == 0 else g(y, x%y)\n",
    "\n",
    "print('GCD = ', g(99, 225))"
   ]
  },
  {
   "cell_type": "markdown",
   "id": "864e9709",
   "metadata": {},
   "source": [
    "<a id= 'fibo'></a>\n",
    "### 11.2 利用遞迴求費氏數列(Fibonacci number)\n",
    "\n",
    "- [利用 tuple 求費氏數列](#fiboTuple)"
   ]
  },
  {
   "cell_type": "code",
   "execution_count": 38,
   "id": "4372da33",
   "metadata": {},
   "outputs": [
    {
     "name": "stdout",
     "output_type": "stream",
     "text": [
      "Enter a number : 5\n",
      "fibo(6) = 8\n"
     ]
    }
   ],
   "source": [
    "def fibo(n):\n",
    "    if n == 0 or n == 1: \n",
    "        return 1\n",
    "    else: \n",
    "        return fibo(n-1) + fibo(n-2)  #  Multiple Recursion\n",
    "\n",
    "n = int(input('Enter a number : '))   \n",
    "print('fibo(%d) = %d'%(n+1,fibo(n)))"
   ]
  },
  {
   "cell_type": "code",
   "execution_count": 37,
   "id": "74993f77",
   "metadata": {},
   "outputs": [
    {
     "name": "stdout",
     "output_type": "stream",
     "text": [
      "Enter a number : 5\n",
      "fibo(6) = 8\n"
     ]
    }
   ],
   "source": [
    "#簡化遞迴函式\n",
    "def fibo(n):\n",
    "    return 1 if n == 0 or n == 1 else fibo(n-1) + fibo(n-2)  #  Multiple Recursion\n",
    "\n",
    "n = int(input('Enter a number : '))   \n",
    "print('fibo(%d) = %d'%(n+1,fibo(n)))"
   ]
  },
  {
   "cell_type": "markdown",
   "id": "a2b8f283",
   "metadata": {},
   "source": [
    "### 11.3 階乘 (factorial)\n",
    "\n",
    "\\begin{equation*}   \n",
    "n!  =  n * (n-1)!   =  n*(n-1)*(n-2)!   = \\cdots \\cdots   =   n*(n-1)* \\cdots *2*1 \n",
    "\\end{equation*}\n"
   ]
  },
  {
   "cell_type": "code",
   "execution_count": 29,
   "id": "1d658fae",
   "metadata": {
    "scrolled": true
   },
   "outputs": [
    {
     "name": "stdout",
     "output_type": "stream",
     "text": [
      "Enter a number [>= 0] : 5\n",
      "5! = 120\n"
     ]
    }
   ],
   "source": [
    "def facto(n):\n",
    "    if n == 0 or n == 1:    #  n == 0 for 0! = 1\n",
    "        return 1\n",
    "    else: \n",
    "        return n * facto(n-1)   #  Recursion with stack\n",
    "    \n",
    "n = int(input('Enter a number [>= 0] : '))   \n",
    "print('{0}! = {1}'.format(n, facto(n)))"
   ]
  },
  {
   "cell_type": "markdown",
   "id": "59328450",
   "metadata": {},
   "source": [
    "### 11.4 十進位轉換為二進位"
   ]
  },
  {
   "cell_type": "code",
   "execution_count": 32,
   "id": "c9dff99c",
   "metadata": {},
   "outputs": [
    {
     "name": "stdout",
     "output_type": "stream",
     "text": [
      "Enter an integer : 14\n",
      "\n",
      " Recursion for decimal-to-binary transformation : \n",
      " Decimal(14) = Binary(1110)\n"
     ]
    }
   ],
   "source": [
    "from decimal import Decimal\n",
    "\n",
    "def deci_to_bin(deci):    # 計算 二進位值的轉換\n",
    "    '''Recursion for decimal-to-binary transformation : ''' #docString\n",
    "    deci = Decimal(deci)\n",
    "    \n",
    "    if deci == 0:  #終止條件\n",
    "        return ''   \n",
    "    else:\n",
    "        # bin_string : 儲存二進位值的轉換結果\n",
    "        bin_string = str(deci % Decimal(2)) \n",
    "        deci = deci // Decimal(2)  \n",
    "        return deci_to_bin(deci) + bin_string   # Recursion\n",
    "\n",
    "    \n",
    "deci_value = input('Enter an integer : ')     \n",
    "print('\\n', deci_to_bin.__doc__)\n",
    "print(' Decimal({0}) = '.format(deci_value), end='')\n",
    "\n",
    "result = deci_to_bin(deci_value)\n",
    "print('Binary({})'.format(result))"
   ]
  },
  {
   "cell_type": "markdown",
   "id": "502772ec",
   "metadata": {},
   "source": [
    "<a id='argument'></a>\n",
    "## 12. Arguments (引數)\n",
    "\n",
    "- 引數分為：**位置引數(positional arguments)** 和 **關鍵字引數(keyword arguments)**\n",
    "    - **位置引數：** 依據引數列 (argument list) 的位置順序 (positional order) 來分派引數值。\n",
    "    - **關鍵字引數：** 依據引數列的關鍵字引數指派引數值，故關鍵字引數可交換順序擺放。\n",
    "    - 所有的\"位置引數\" 必須置放於 \"關鍵字引數\" 之前。 **函式( positional arguments, keyword arguments )**\n",
    "    \n",
    "### 12.1 預設引數值(計算複利率)\n",
    "\n",
    "\\begin{equation*} \n",
    "    \\text{複利公式：} FV = Capital * (1 + Interest Rate)^n\n",
    "     \\implies \\quad  \n",
    "    \\text{$Interest Rate$} = \\sqrt[\\large n] \\frac{FV}{Capital} - 1 \n",
    "\\end{equation*}"
   ]
  },
  {
   "cell_type": "code",
   "execution_count": 15,
   "id": "b9b43e3d",
   "metadata": {},
   "outputs": [
    {
     "name": "stdout",
     "output_type": "stream",
     "text": [
      "default :\n",
      "capital = 1000000, n = 30, FV = 10000000, interest rate = 7.98%\n",
      "\n",
      "positional arguments :\n",
      "capital = 2000000, n = 20, FV = 20000000, interest rate = 12.20%\n",
      "\n",
      "keyword arguments :\n",
      "capital = 2000000, n = 20, FV = 20000000, interest rate = 12.20%\n",
      "\n",
      "mix :\n",
      "capital = 2000000, n = 30, FV = 20000000, interest rate = 7.98%\n",
      "\n"
     ]
    }
   ],
   "source": [
    "from decimal import *\n",
    "getcontext().prec = 10    #  設定最大的精度範圍至小數點後第 10 位\n",
    "\n",
    "def cir(capital = 1000000, n = 30 , FV = 10000000): \n",
    "    '''< Computing the compound interest rate >'''\n",
    "    \n",
    "    interest_rate = Decimal(FV) / Decimal(str(capital)) \n",
    "    interest_rate = interest_rate ** (Decimal(str(1/n))) - 1\n",
    "    \n",
    "    return [capital, n, FV, interest_rate]\n",
    "\n",
    "case1=cir()  #default\n",
    "print('default :\\ncapital = {0}, n = {1}, FV = {2}, interest rate = {3:.2f}%\\n'.format(case1[0],case1[1],case1[2],case1[3]*100))\n",
    "\n",
    "case2=cir(2000000, 20, 20000000)  #positional arguments\n",
    "print('positional arguments :\\ncapital = {0}, n = {1}, FV = {2}, interest rate = {3:.2f}%\\n'.format(case2[0],case2[1],case2[2],case2[3]*100))\n",
    "\n",
    "case3=cir(FV=20000000, capital=2000000, n=20)  #keyword arguments\n",
    "print('keyword arguments :\\ncapital = {0}, n = {1}, FV = {2}, interest rate = {3:.2f}%\\n'.format(case3[0],case3[1],case3[2],case3[3]*100))\n",
    "\n",
    "case4=cir(2000000,FV=20000000)  #mix\n",
    "print('mix :\\ncapital = {0}, n = {1}, FV = {2}, interest rate = {3:.2f}%\\n'.format(case4[0],case4[1],case4[2],case4[3]*100))\n"
   ]
  },
  {
   "cell_type": "markdown",
   "id": "555d07c1",
   "metadata": {},
   "source": [
    "### 12.2 任意引數串列 (Arbitrary Argument Lists)\n",
    "\n",
    "- 使用`*args` 讀取所有剩下的輸入引數。通常置於引數列的最後一個位置\n",
    "- `*args` 之後，僅能放置帶有預設值的**keyword arguments**"
   ]
  },
  {
   "cell_type": "code",
   "execution_count": 39,
   "id": "5762227e",
   "metadata": {
    "scrolled": true
   },
   "outputs": [
    {
     "name": "stdout",
     "output_type": "stream",
     "text": [
      "[ 7 continents ] : \n",
      "Africa, Asia, Europe, North America, South America, Antartica, Australia\n"
     ]
    }
   ],
   "source": [
    "def continents(*args, rest=['Antartica', 'Australia'], sep=', '): \n",
    "    return '[ 7 continents ] : \\n' + sep.join(args) + sep + sep.join(rest)\n",
    "\n",
    "print(continents('Africa', 'Asia', 'Europe', 'North America', 'South America'))\n"
   ]
  },
  {
   "cell_type": "markdown",
   "id": "f89c6a8c",
   "metadata": {},
   "source": [
    "<a id='scope'></a>\n",
    "## 13. 變數範圍 (Scope)\n",
    "\n",
    "### 13.1 Local Symbol Tables(區域符號表)\n",
    "\n",
    "- 每當執行一個函式時，就會產生一個新的 local symbol table，來記錄這個函式的**區域變數**。\n",
    "- 當程式參照一個變數時，查找順序為：**local symbol table ＞ global symbol table ＞ table of built-in names**。\n",
    "\n",
    "### 13.2 `local` 、 `global`  and  `nonlocal` variable"
   ]
  },
  {
   "cell_type": "code",
   "execution_count": 43,
   "id": "99de7dcf",
   "metadata": {},
   "outputs": [
    {
     "name": "stdout",
     "output_type": "stream",
     "text": [
      "Global variable :  1000\n",
      "Inside local_1 :  1\n",
      " After local_1 :  5\n",
      "Inside local_2 :  10\n",
      "Inside local_3 :  100\n",
      " After local_3 :  10\n",
      " After local_2 :  10\n",
      "Within global scope: 100\n"
     ]
    }
   ],
   "source": [
    "def data_scope():    # 巢狀函式\n",
    "    data = 5         # local_2-->10\n",
    "    \n",
    "    def local_1():   \n",
    "        data = 1     # local data\n",
    "        print('Inside local_1 : ', data) #step2\n",
    "\n",
    "    def local_2():\n",
    "        nonlocal data #指示使用上一層的data\n",
    "        data = 10    # assign 10 to data_scope()的data\n",
    "        print('Inside local_2 : ', data) #step4 nonlocal(10) > global(1000)\n",
    "        \n",
    "        def local_3():\n",
    "            global data  #指示使用global的data\n",
    "            data = 100   # assign 100 to global的data \n",
    "            print('Inside local_3 : ', data) #step5 \n",
    "            \n",
    "        local_3()\n",
    "        print(\" After local_3 : \", data) #step6 。use local data\n",
    "\n",
    "    local_1()\n",
    "    print(\" After local_1 : \", data) #step3\n",
    "    local_2()\n",
    "    print(\" After local_2 : \", data) #step7 。use local data\n",
    "\n",
    "\n",
    "\n",
    "data = 1000  # local_3-->100\n",
    "print('Global variable : ', data) #step1\n",
    "data_scope() \n",
    "print(\"Within global scope:\", data) #step8 use global data"
   ]
  },
  {
   "cell_type": "code",
   "execution_count": null,
   "id": "60761b76",
   "metadata": {},
   "outputs": [],
   "source": []
  }
 ],
 "metadata": {
  "kernelspec": {
   "display_name": "Python 3 (ipykernel)",
   "language": "python",
   "name": "python3"
  },
  "language_info": {
   "codemirror_mode": {
    "name": "ipython",
    "version": 3
   },
   "file_extension": ".py",
   "mimetype": "text/x-python",
   "name": "python",
   "nbconvert_exporter": "python",
   "pygments_lexer": "ipython3",
   "version": "3.11.5"
  }
 },
 "nbformat": 4,
 "nbformat_minor": 5
}
